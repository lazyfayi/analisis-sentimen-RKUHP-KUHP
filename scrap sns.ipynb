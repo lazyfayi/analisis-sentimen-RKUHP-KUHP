{
 "cells": [
  {
   "cell_type": "code",
   "execution_count": 1,
   "id": "3d3fcfa9",
   "metadata": {},
   "outputs": [
    {
     "name": "stdout",
     "output_type": "stream",
     "text": [
      "Requirement already satisfied: snscrape in /home/tsbh/anaconda3/lib/python3.9/site-packages (0.4.3.20220106)\n",
      "Requirement already satisfied: lxml in /home/tsbh/anaconda3/lib/python3.9/site-packages (from snscrape) (4.8.0)\n",
      "Requirement already satisfied: requests[socks] in /home/tsbh/anaconda3/lib/python3.9/site-packages (from snscrape) (2.27.1)\n",
      "Requirement already satisfied: filelock in /home/tsbh/anaconda3/lib/python3.9/site-packages (from snscrape) (3.6.0)\n",
      "Requirement already satisfied: beautifulsoup4 in /home/tsbh/anaconda3/lib/python3.9/site-packages (from snscrape) (4.11.1)\n",
      "Requirement already satisfied: soupsieve>1.2 in /home/tsbh/anaconda3/lib/python3.9/site-packages (from beautifulsoup4->snscrape) (2.3.1)\n",
      "Requirement already satisfied: charset-normalizer~=2.0.0 in /home/tsbh/anaconda3/lib/python3.9/site-packages (from requests[socks]->snscrape) (2.0.4)\n",
      "Requirement already satisfied: idna<4,>=2.5 in /home/tsbh/anaconda3/lib/python3.9/site-packages (from requests[socks]->snscrape) (3.3)\n",
      "Requirement already satisfied: urllib3<1.27,>=1.21.1 in /home/tsbh/anaconda3/lib/python3.9/site-packages (from requests[socks]->snscrape) (1.26.9)\n",
      "Requirement already satisfied: certifi>=2017.4.17 in /home/tsbh/anaconda3/lib/python3.9/site-packages (from requests[socks]->snscrape) (2021.10.8)\n",
      "Requirement already satisfied: PySocks!=1.5.7,>=1.5.6 in /home/tsbh/anaconda3/lib/python3.9/site-packages (from requests[socks]->snscrape) (1.7.1)\n",
      "Note: you may need to restart the kernel to use updated packages.\n"
     ]
    }
   ],
   "source": [
    "pip install snscrape"
   ]
  },
  {
   "cell_type": "code",
   "execution_count": 4,
   "id": "1d13d70b",
   "metadata": {},
   "outputs": [
    {
     "name": "stderr",
     "output_type": "stream",
     "text": [
      "/tmp/ipykernel_2852/1340970343.py:14: FutureWarning: username is deprecated, use user.username instead\n",
      "  tweets_list.append([tweet.date, tweet.username, tweet.content])\n"
     ]
    }
   ],
   "source": [
    "import snscrape.modules.twitter as sntwitter\n",
    "import pandas as pd\n",
    "\n",
    "# jumlah data yang akan diambil\n",
    "maxTweets = 5000\n",
    "\n",
    "# menambahkan list tweet ke dalam data\n",
    "tweets_list = []\n",
    "\n",
    "# Using TwitterSearchScraper to scrape data and append tweets to list\n",
    "for i,tweet in enumerate(sntwitter.TwitterSearchScraper('RKUHP since:2022-08-28 until:2022-12-18 lang:id').get_items()):\n",
    "    if i>maxTweets:\n",
    "        break\n",
    "    tweets_list.append([tweet.date, tweet.username, tweet.content])\n",
    "\n",
    "# membuat data frame untuk menampung tweets list yang terdapat diatas\n",
    "tweets_df = pd.DataFrame(tweets_list, columns=['Datetime', 'Username', 'Text'])\n",
    "tweets_df = tweets_df.drop_duplicates()"
   ]
  },
  {
   "cell_type": "code",
   "execution_count": 6,
   "id": "7b75e260",
   "metadata": {},
   "outputs": [],
   "source": [
    "# Export dataframe into a CSV\n",
    "tweets_df.to_csv('hasil_mentah.csv', index=False, header=True)"
   ]
  },
  {
   "cell_type": "code",
   "execution_count": null,
   "id": "46870ca0",
   "metadata": {},
   "outputs": [],
   "source": []
  }
 ],
 "metadata": {
  "kernelspec": {
   "display_name": "Python 3 (ipykernel)",
   "language": "python",
   "name": "python3"
  },
  "language_info": {
   "codemirror_mode": {
    "name": "ipython",
    "version": 3
   },
   "file_extension": ".py",
   "mimetype": "text/x-python",
   "name": "python",
   "nbconvert_exporter": "python",
   "pygments_lexer": "ipython3",
   "version": "3.9.12"
  }
 },
 "nbformat": 4,
 "nbformat_minor": 5
}
